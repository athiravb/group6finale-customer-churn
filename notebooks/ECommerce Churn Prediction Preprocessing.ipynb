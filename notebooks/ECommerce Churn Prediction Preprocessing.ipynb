{
 "cells": [
  {
   "cell_type": "code",
   "execution_count": 1,
   "id": "48c79cb2",
   "metadata": {
    "id": "48c79cb2"
   },
   "outputs": [],
   "source": [
    "import numpy as np\n",
    "import pandas as pd\n",
    "import matplotlib.pyplot as plt\n",
    "import seaborn as sns\n",
    "from imblearn.over_sampling import SMOTE\n",
    "from sklearn.preprocessing import StandardScaler\n",
    "from sklearn import metrics\n",
    "from sklearn.preprocessing import LabelEncoder\n",
    "import scipy.stats as stats\n",
    "from scipy.stats import chi2_contingency\n",
    "from sklearn.model_selection import train_test_split\n",
    "import warnings\n",
    "warnings.filterwarnings(\"ignore\")"
   ]
  },
  {
   "cell_type": "code",
   "execution_count": 2,
   "id": "8b6117ea",
   "metadata": {
    "id": "8b6117ea"
   },
   "outputs": [],
   "source": [
    "df = pd.read_excel(r\"C:\\Users\\USER\\Downloads\\E Commerce Dataset.xlsx\",sheet_name=1)"
   ]
  },
  {
   "cell_type": "markdown",
   "id": "81685530",
   "metadata": {
    "id": "81685530"
   },
   "source": [
    "**Check for duplicate rows** -"
   ]
  },
  {
   "cell_type": "code",
   "execution_count": 3,
   "id": "3653a67f",
   "metadata": {
    "colab": {
     "base_uri": "https://localhost:8080/"
    },
    "id": "3653a67f",
    "outputId": "9452dc40-84a4-4428-e4e5-6a962e37b319"
   },
   "outputs": [
    {
     "data": {
      "text/plain": [
       "0"
      ]
     },
     "execution_count": 3,
     "metadata": {},
     "output_type": "execute_result"
    }
   ],
   "source": [
    "df.duplicated().sum()"
   ]
  },
  {
   "cell_type": "markdown",
   "id": "5f0a82c0",
   "metadata": {
    "id": "5f0a82c0"
   },
   "source": [
    "No duplicates"
   ]
  },
  {
   "cell_type": "markdown",
   "id": "8d223ac7",
   "metadata": {
    "id": "8d223ac7"
   },
   "source": [
    "## **Check for Inconsistancies and corruptness**"
   ]
  },
  {
   "cell_type": "code",
   "execution_count": 4,
   "id": "9d3c241f",
   "metadata": {
    "colab": {
     "base_uri": "https://localhost:8080/"
    },
    "id": "9d3c241f",
    "outputId": "0c12283a-4655-4eb0-cb91-2d30d28b67bc"
   },
   "outputs": [
    {
     "data": {
      "text/plain": [
       "CustomerID                     5630\n",
       "Churn                             2\n",
       "Tenure                           36\n",
       "PreferredLoginDevice              3\n",
       "CityTier                          3\n",
       "WarehouseToHome                  34\n",
       "PreferredPaymentMode              7\n",
       "Gender                            2\n",
       "HourSpendOnApp                    6\n",
       "NumberOfDeviceRegistered          6\n",
       "PreferedOrderCat                  6\n",
       "SatisfactionScore                 5\n",
       "MaritalStatus                     3\n",
       "NumberOfAddress                  15\n",
       "Complain                          2\n",
       "OrderAmountHikeFromlastYear      16\n",
       "CouponUsed                       17\n",
       "OrderCount                       16\n",
       "DaySinceLastOrder                22\n",
       "CashbackAmount                 2586\n",
       "dtype: int64"
      ]
     },
     "execution_count": 4,
     "metadata": {},
     "output_type": "execute_result"
    }
   ],
   "source": [
    "# Find the unique number of values for each variable\n",
    "df.nunique()"
   ]
  },
  {
   "cell_type": "markdown",
   "id": "f19f23b6",
   "metadata": {
    "id": "f19f23b6"
   },
   "source": [
    "Except for Customer ID and CashbackAmount, lets find the unique values for the other columns."
   ]
  },
  {
   "cell_type": "code",
   "execution_count": 5,
   "id": "80b42fdf",
   "metadata": {
    "colab": {
     "base_uri": "https://localhost:8080/"
    },
    "id": "80b42fdf",
    "outputId": "a2fd95fc-8465-4b9e-d566-b7f616b32472"
   },
   "outputs": [
    {
     "name": "stdout",
     "output_type": "stream",
     "text": [
      "Column Name : Churn\n",
      "[1 0]\n",
      "-------------------------------------------------------------\n",
      "Column Name : Tenure\n",
      "[ 4. nan  0. 13. 11.  9. 19. 20. 14.  8. 18.  5.  2. 30.  1. 23.  3. 29.\n",
      "  6. 26. 28.  7. 24. 25. 10. 15. 22. 27. 16. 12. 21. 17. 50. 60. 31. 51.\n",
      " 61.]\n",
      "-------------------------------------------------------------\n",
      "Column Name : PreferredLoginDevice\n",
      "['Mobile Phone' 'Phone' 'Computer']\n",
      "-------------------------------------------------------------\n",
      "Column Name : CityTier\n",
      "[3 1 2]\n",
      "-------------------------------------------------------------\n",
      "Column Name : WarehouseToHome\n",
      "[  6.   8.  30.  15.  12.  22.  11.   9.  31.  18.  13.  20.  29.  28.\n",
      "  26.  14.  nan  10.  27.  17.  23.  33.  19.  35.  24.  16.  25.  32.\n",
      "  34.   5.  21. 126.   7.  36. 127.]\n",
      "-------------------------------------------------------------\n",
      "Column Name : PreferredPaymentMode\n",
      "['Debit Card' 'UPI' 'CC' 'Cash on Delivery' 'E wallet' 'COD' 'Credit Card']\n",
      "-------------------------------------------------------------\n",
      "Column Name : Gender\n",
      "['Female' 'Male']\n",
      "-------------------------------------------------------------\n",
      "Column Name : HourSpendOnApp\n",
      "[ 3.  2. nan  1.  0.  4.  5.]\n",
      "-------------------------------------------------------------\n",
      "Column Name : NumberOfDeviceRegistered\n",
      "[3 4 5 2 1 6]\n",
      "-------------------------------------------------------------\n",
      "Column Name : PreferedOrderCat\n",
      "['Laptop & Accessory' 'Mobile' 'Mobile Phone' 'Others' 'Fashion' 'Grocery']\n",
      "-------------------------------------------------------------\n",
      "Column Name : SatisfactionScore\n",
      "[2 3 5 4 1]\n",
      "-------------------------------------------------------------\n",
      "Column Name : MaritalStatus\n",
      "['Single' 'Divorced' 'Married']\n",
      "-------------------------------------------------------------\n",
      "Column Name : NumberOfAddress\n",
      "[ 9  7  6  8  3  2  4 10  1  5 19 21 11 20 22]\n",
      "-------------------------------------------------------------\n",
      "Column Name : Complain\n",
      "[1 0]\n",
      "-------------------------------------------------------------\n",
      "Column Name : OrderAmountHikeFromlastYear\n",
      "[11. 15. 14. 23. 22. 16. 12. nan 13. 17. 18. 24. 19. 20. 21. 25. 26.]\n",
      "-------------------------------------------------------------\n",
      "Column Name : CouponUsed\n",
      "[ 1.  0.  4.  2.  9.  6. 11. nan  7. 12. 10.  5.  3. 13. 15.  8. 14. 16.]\n",
      "-------------------------------------------------------------\n",
      "Column Name : OrderCount\n",
      "[ 1.  6.  2. 15.  4.  7.  3.  9. nan 11.  5. 12. 10.  8. 13. 14. 16.]\n",
      "-------------------------------------------------------------\n",
      "Column Name : DaySinceLastOrder\n",
      "[ 5.  0.  3.  7.  2.  1.  8.  6.  4. 15.  9. 11. 10. nan 13. 12. 17. 16.\n",
      " 14. 30. 46. 18. 31.]\n",
      "-------------------------------------------------------------\n"
     ]
    }
   ],
   "source": [
    "# Unique values for columns\n",
    "for col in df.drop(['CustomerID', 'CashbackAmount'], axis=1).columns:\n",
    "  print('Column Name :', col)\n",
    "  print(df[col].unique())\n",
    "  print('-------------------------------------------------------------')"
   ]
  },
  {
   "cell_type": "markdown",
   "id": "b15ab82e",
   "metadata": {
    "id": "b15ab82e"
   },
   "source": [
    "**OBSERVATIONS :** We can observe the following inconsistancies:\n",
    "- **PreferredLoginDevice** : 'Phone' and 'Mobile' probably indicates mobile phone, since you cannot login with a land phone -> change it to a common 'Mobile'\n",
    "- **WarehouseToHome** : Has extremely large values like 126 and 127, which is highly unlikely since people don't usually travel that long distance to buy goods. The values might be mistakenly entered -> change 126->26 and 127->27\n",
    "- **PreferredPaymentMode** :\n",
    "  - 'CC' and 'Credit Card' indicate credit card -> change it to 'CC'\n",
    "  - 'Cash on Delivery' and 'COD' indicate cash on delivery -> change it to 'COD'\n",
    "  - In addition, change Debit Card to DC for convenience.\n",
    "- **PreferedOrderCat**:\n",
    "  - 'Mobile' and 'Mobile Phone' -> change it to 'Mobile'\n",
    "  - 'Laptop & Accessory' -> change it to 'Laptop' for convenience.\n",
    "- **NumberOfAddress** : Has large numbers above 10, which seems very unlikely. Need to look into it."
   ]
  },
  {
   "cell_type": "code",
   "execution_count": 6,
   "id": "c333cc57",
   "metadata": {
    "id": "c333cc57"
   },
   "outputs": [],
   "source": [
    "# Correct values of column PreferredLoginDevice, WarehouseToHome, PreferredPaymentMode and PreferedOrderCat\n",
    "df['PreferredLoginDevice'].replace({'Mobile Phone':'Mobile', 'Phone':'Mobile'}, inplace=True)\n",
    "df['WarehouseToHome'].replace({126:26, 127:27}, inplace=True)\n",
    "df['PreferredPaymentMode'].replace({'Credit Card':'CC', 'Cash on Delivery':'COD', 'Debit Card':'DC' }, inplace=True)\n",
    "df['PreferedOrderCat'].replace({'Mobile Phone':'Mobile', 'Laptop & Accessory':'Laptop'}, inplace=True)"
   ]
  },
  {
   "cell_type": "markdown",
   "id": "d69d1eb0",
   "metadata": {
    "id": "d69d1eb0"
   },
   "source": [
    "Now lets delve into the problem with the inconsistant values of NumberOfAddress."
   ]
  },
  {
   "cell_type": "code",
   "execution_count": 7,
   "id": "3e35e6cb",
   "metadata": {
    "colab": {
     "base_uri": "https://localhost:8080/"
    },
    "id": "3e35e6cb",
    "outputId": "bf4257e4-f101-4d79-ecc4-d719492bb216"
   },
   "outputs": [
    {
     "data": {
      "text/plain": [
       "1453"
      ]
     },
     "execution_count": 7,
     "metadata": {},
     "output_type": "execute_result"
    }
   ],
   "source": [
    "# Number of rows with NumberOfAddress greater than 5\n",
    "df[df.NumberOfAddress>5].shape[0]"
   ]
  },
  {
   "cell_type": "markdown",
   "id": "b8a0f656",
   "metadata": {
    "id": "b8a0f656"
   },
   "source": [
    "There seems to be 1453 customers with more than 5 addresses registered in the ecommerce platform, in their name. This seems very unlikely. But we cannot rule out the following possibilities:\n",
    "- The customer might have multiple properties(houses) in their name.\n",
    "- Slight change in the address text.\n",
    "- Addresses of workplace/workplaces if the customer works shifts.\n",
    "- Ordering for someone else\n",
    "- Someone else must be ordering in the customer's name name(either other family member with the customer's knowledge or in the rare case fraud transactions by outsiders).\n",
    "\n",
    "In the above mention cases, multiple addresses might be added.\n",
    "\n",
    "If we have some other information like the actual list of addresses registered or the locations where the orders were made, number of family members, number of children, occupation related information, annual income etc., we might get a little bit insight into the possibility of customers have multiple addresses.\n",
    "\n",
    "However, since we do not have them, we need to explore with the available information and reach a conclusion. We shall analyse more in the EDA process and come to a conclusion."
   ]
  },
  {
   "cell_type": "code",
   "execution_count": 8,
   "id": "57e91f64",
   "metadata": {
    "colab": {
     "base_uri": "https://localhost:8080/"
    },
    "id": "57e91f64",
    "outputId": "fea866db-16bb-4f0f-d369-d157e340143c"
   },
   "outputs": [
    {
     "data": {
      "text/plain": [
       "CustomerID                       0\n",
       "Churn                            0\n",
       "Tenure                         264\n",
       "PreferredLoginDevice             0\n",
       "CityTier                         0\n",
       "WarehouseToHome                251\n",
       "PreferredPaymentMode             0\n",
       "Gender                           0\n",
       "HourSpendOnApp                 255\n",
       "NumberOfDeviceRegistered         0\n",
       "PreferedOrderCat                 0\n",
       "SatisfactionScore                0\n",
       "MaritalStatus                    0\n",
       "NumberOfAddress                  0\n",
       "Complain                         0\n",
       "OrderAmountHikeFromlastYear    265\n",
       "CouponUsed                     256\n",
       "OrderCount                     258\n",
       "DaySinceLastOrder              307\n",
       "CashbackAmount                   0\n",
       "dtype: int64"
      ]
     },
     "execution_count": 8,
     "metadata": {},
     "output_type": "execute_result"
    }
   ],
   "source": [
    "df.isna().sum()"
   ]
  },
  {
   "cell_type": "code",
   "execution_count": 9,
   "id": "02f9f334",
   "metadata": {
    "colab": {
     "base_uri": "https://localhost:8080/"
    },
    "id": "02f9f334",
    "outputId": "2b3ce6d9-af9e-4a6e-b824-6d82e398b05b"
   },
   "outputs": [
    {
     "data": {
      "text/plain": [
       "['Tenure',\n",
       " 'WarehouseToHome',\n",
       " 'HourSpendOnApp',\n",
       " 'OrderAmountHikeFromlastYear',\n",
       " 'CouponUsed',\n",
       " 'OrderCount',\n",
       " 'DaySinceLastOrder']"
      ]
     },
     "execution_count": 9,
     "metadata": {},
     "output_type": "execute_result"
    }
   ],
   "source": [
    "# Find columns with missing values\n",
    "missing_cols = [col for col in df.columns if df[col].isnull().any()]\n",
    "missing_cols"
   ]
  },
  {
   "cell_type": "code",
   "execution_count": 10,
   "id": "bcee3024",
   "metadata": {
    "colab": {
     "base_uri": "https://localhost:8080/",
     "height": 269
    },
    "id": "bcee3024",
    "outputId": "8975d2bb-ca41-4b08-cb06-f6cef94f81d3"
   },
   "outputs": [
    {
     "data": {
      "text/html": [
       "<div>\n",
       "<style scoped>\n",
       "    .dataframe tbody tr th:only-of-type {\n",
       "        vertical-align: middle;\n",
       "    }\n",
       "\n",
       "    .dataframe tbody tr th {\n",
       "        vertical-align: top;\n",
       "    }\n",
       "\n",
       "    .dataframe thead th {\n",
       "        text-align: right;\n",
       "    }\n",
       "</style>\n",
       "<table border=\"1\" class=\"dataframe\">\n",
       "  <thead>\n",
       "    <tr style=\"text-align: right;\">\n",
       "      <th></th>\n",
       "      <th>column</th>\n",
       "      <th>no. of missing values</th>\n",
       "      <th>percentage</th>\n",
       "    </tr>\n",
       "  </thead>\n",
       "  <tbody>\n",
       "    <tr>\n",
       "      <th>0</th>\n",
       "      <td>Tenure</td>\n",
       "      <td>264</td>\n",
       "      <td>4.689165</td>\n",
       "    </tr>\n",
       "    <tr>\n",
       "      <th>1</th>\n",
       "      <td>WarehouseToHome</td>\n",
       "      <td>251</td>\n",
       "      <td>4.458259</td>\n",
       "    </tr>\n",
       "    <tr>\n",
       "      <th>2</th>\n",
       "      <td>HourSpendOnApp</td>\n",
       "      <td>255</td>\n",
       "      <td>4.529307</td>\n",
       "    </tr>\n",
       "    <tr>\n",
       "      <th>3</th>\n",
       "      <td>OrderAmountHikeFromlastYear</td>\n",
       "      <td>265</td>\n",
       "      <td>4.706927</td>\n",
       "    </tr>\n",
       "    <tr>\n",
       "      <th>4</th>\n",
       "      <td>CouponUsed</td>\n",
       "      <td>256</td>\n",
       "      <td>4.547069</td>\n",
       "    </tr>\n",
       "    <tr>\n",
       "      <th>5</th>\n",
       "      <td>OrderCount</td>\n",
       "      <td>258</td>\n",
       "      <td>4.582593</td>\n",
       "    </tr>\n",
       "    <tr>\n",
       "      <th>6</th>\n",
       "      <td>DaySinceLastOrder</td>\n",
       "      <td>307</td>\n",
       "      <td>5.452931</td>\n",
       "    </tr>\n",
       "  </tbody>\n",
       "</table>\n",
       "</div>"
      ],
      "text/plain": [
       "                        column  no. of missing values  percentage\n",
       "0                       Tenure                    264    4.689165\n",
       "1              WarehouseToHome                    251    4.458259\n",
       "2               HourSpendOnApp                    255    4.529307\n",
       "3  OrderAmountHikeFromlastYear                    265    4.706927\n",
       "4                   CouponUsed                    256    4.547069\n",
       "5                   OrderCount                    258    4.582593\n",
       "6            DaySinceLastOrder                    307    5.452931"
      ]
     },
     "execution_count": 10,
     "metadata": {},
     "output_type": "execute_result"
    }
   ],
   "source": [
    "# Find the % of missing value in the above list of columns\n",
    "percent = df[missing_cols].isnull().sum() * 100/len(df)\n",
    "missing_df = pd.DataFrame({'column':missing_cols,\n",
    "                           'no. of missing values' : df[missing_cols].isnull().sum().values,\n",
    "                           'percentage' : percent.values})\n",
    "missing_df"
   ]
  },
  {
   "cell_type": "code",
   "execution_count": 11,
   "id": "24206120",
   "metadata": {
    "colab": {
     "base_uri": "https://localhost:8080/",
     "height": 472
    },
    "id": "24206120",
    "outputId": "98538239-48b8-4b59-eab4-38c737dae271"
   },
   "outputs": [
    {
     "data": {
      "image/png": "[encoded data removed]",
      "text/plain": [
       "<Figure size 640x480 with 1 Axes>"
      ]
     },
     "metadata": {},
     "output_type": "display_data"
    }
   ],
   "source": [
    "# Create a barh chart\n",
    "plt.barh(missing_df['column'], missing_df['percentage'], color='#008080')\n",
    "\n",
    "# Add text labels to each bar\n",
    "for i in range(len(missing_df)):\n",
    "    plt.text(missing_df['percentage'].iloc[i], missing_df['column'].iloc[i],\n",
    "              f\"{missing_df['no. of missing values'].iloc[i]} ({missing_df['percentage'].iloc[i]:.2f}%)\",\n",
    "              ha='center', va='bottom')\n",
    "\n",
    "plt.title('Percentage of Missing Values')\n",
    "plt.xlabel('Percentage')\n",
    "plt.ylabel('Column')\n",
    "plt.show()"
   ]
  },
  {
   "cell_type": "markdown",
   "id": "ae163c90",
   "metadata": {
    "id": "ae163c90"
   },
   "source": [
    "- We see that the percent of missing values for any column is below 6%. We can either drop them (columnwise/rowwise) or impute them using any suitable method or a combination of both.\n",
    "​\n",
    "- Dropping the column is not recommended, since each column has a max of only 6% missing values.\n",
    "​\n",
    "- Lets look at the number of missing values in each row. If any rows has 4 or more than 4 missing values, we shall drop those rows."
   ]
  },
  {
   "cell_type": "code",
   "execution_count": 12,
   "id": "15986eaa",
   "metadata": {
    "colab": {
     "base_uri": "https://localhost:8080/"
    },
    "id": "15986eaa",
    "outputId": "e3f2c68c-372f-4677-f8a8-6081068e9f06"
   },
   "outputs": [
    {
     "data": {
      "text/plain": [
       "0    3774\n",
       "1    1856\n",
       "dtype: int64"
      ]
     },
     "execution_count": 12,
     "metadata": {},
     "output_type": "execute_result"
    }
   ],
   "source": [
    "# Calculate the number of missing values in each row and finding the count\n",
    "df.isnull().sum(axis=1).value_counts()"
   ]
  },
  {
   "cell_type": "markdown",
   "id": "1443809e",
   "metadata": {
    "id": "1443809e"
   },
   "source": [
    "The maximum number of missing value in any given row is 1. So, its difficult to drop rows with losing substantial information from the data. Therefore we shall impute them.\n",
    "\n",
    "In our case, all our missing data are numeric type. Therefore, we shall fill the missing values with mean or median of the variable, depending in the skewness value."
   ]
  },
  {
   "cell_type": "code",
   "execution_count": 13,
   "id": "e6da56b1",
   "metadata": {
    "colab": {
     "base_uri": "https://localhost:8080/"
    },
    "id": "e6da56b1",
    "outputId": "156a9599-6598-46b2-ee8d-cce49a277032"
   },
   "outputs": [
    {
     "data": {
      "text/plain": [
       "Tenure                         0.736513\n",
       "WarehouseToHome                0.898406\n",
       "HourSpendOnApp                -0.027213\n",
       "OrderAmountHikeFromlastYear    0.790785\n",
       "CouponUsed                     2.545653\n",
       "OrderCount                     2.196414\n",
       "DaySinceLastOrder              1.191000\n",
       "dtype: float64"
      ]
     },
     "execution_count": 13,
     "metadata": {},
     "output_type": "execute_result"
    }
   ],
   "source": [
    "# Calculate skewness of missing value columns\n",
    "df[missing_cols].skew(axis=0, skipna=True, numeric_only=True)"
   ]
  },
  {
   "cell_type": "code",
   "execution_count": 14,
   "id": "107c5eec",
   "metadata": {
    "colab": {
     "base_uri": "https://localhost:8080/",
     "height": 671
    },
    "id": "107c5eec",
    "outputId": "2bd029fe-ca41-4f02-eb97-ee21fac7f7f2"
   },
   "outputs": [
    {
     "data": {
      "image/png": "[encoded data removed]",
      "text/plain": [
       "<Figure size 640x480 with 1 Axes>"
      ]
     },
     "metadata": {},
     "output_type": "display_data"
    }
   ],
   "source": [
    "# Calculate the skewness of the missing value columns\n",
    "skewness = df[missing_cols].skew(axis=0, skipna=True, numeric_only=True)\n",
    "\n",
    "# Create a bar plot of the skewness\n",
    "plt.bar(skewness.index, skewness.values)\n",
    "# Rotate the x ticks by 90 degrees\n",
    "plt.xticks(skewness.index, skewness.index, rotation=90)\n",
    "# Add a title and labels to the axes\n",
    "plt.title('Skewness of Missing Value Columns')\n",
    "plt.xlabel('Column')\n",
    "plt.ylabel('Skewness')\n",
    "\n",
    "# Show the plot\n",
    "plt.show()"
   ]
  },
  {
   "cell_type": "markdown",
   "id": "d64fe792",
   "metadata": {
    "id": "d64fe792"
   },
   "source": [
    "We can see that\n",
    "- **HourSpendOnApp** is normally distributed -> Fill missing values with mean\n",
    "- **Tenure and OrderAmountHikeFromlastYear** are moderately skewed -> Fill missing values with mean\n",
    "- **WarehouseToHome, CouponUsed, OrderCount and DaySinceLastOrder** are highly skewed -> Fill missing values with median"
   ]
  },
  {
   "cell_type": "code",
   "execution_count": 15,
   "id": "3b239acd",
   "metadata": {
    "colab": {
     "base_uri": "https://localhost:8080/"
    },
    "id": "3b239acd",
    "outputId": "9258fd8b-5c8f-4405-cb6d-48b3c9ea7b26"
   },
   "outputs": [
    {
     "data": {
      "text/plain": [
       "(3, 10, 16, 16)"
      ]
     },
     "execution_count": 15,
     "metadata": {},
     "output_type": "execute_result"
    }
   ],
   "source": [
    "round(df.HourSpendOnApp.mean()), round(df.Tenure.mean()), round(df.OrderAmountHikeFromlastYear.mean()), round(df.WarehouseToHome.mean())"
   ]
  },
  {
   "cell_type": "code",
   "execution_count": 16,
   "id": "000d9105",
   "metadata": {
    "colab": {
     "base_uri": "https://localhost:8080/"
    },
    "id": "000d9105",
    "outputId": "ec4e823a-15cd-48b6-f2ac-a69de42cba67"
   },
   "outputs": [
    {
     "data": {
      "text/plain": [
       "(1.0, 2.0, 3.0)"
      ]
     },
     "execution_count": 16,
     "metadata": {},
     "output_type": "execute_result"
    }
   ],
   "source": [
    "df.CouponUsed.median(), df.OrderCount.median(), df.DaySinceLastOrder.median()"
   ]
  },
  {
   "cell_type": "code",
   "execution_count": 17,
   "id": "54d10f63",
   "metadata": {
    "id": "54d10f63"
   },
   "outputs": [],
   "source": [
    "# Fill missing values ith mean and median\n",
    "df.fillna({'HourSpendOnApp':round(df.HourSpendOnApp.mean()),\n",
    "           'Tenure':round(df.Tenure.mean()),\n",
    "           'OrderAmountHikeFromlastYear':round(df.OrderAmountHikeFromlastYear.mean()),\n",
    "           'WarehouseToHome':round(df.WarehouseToHome.mean()),\n",
    "           'CouponUsed':df.CouponUsed.median(),\n",
    "           'OrderCount':df.OrderCount.median(),\n",
    "           'DaySinceLastOrder':df.DaySinceLastOrder.median()}, inplace=True)"
   ]
  },
  {
   "cell_type": "code",
   "execution_count": 18,
   "id": "3ad06d3e",
   "metadata": {
    "colab": {
     "base_uri": "https://localhost:8080/",
     "height": 270
    },
    "id": "3ad06d3e",
    "outputId": "92ae3861-709e-44eb-d342-f7812d431cb3"
   },
   "outputs": [
    {
     "data": {
      "text/html": [
       "<div>\n",
       "<style scoped>\n",
       "    .dataframe tbody tr th:only-of-type {\n",
       "        vertical-align: middle;\n",
       "    }\n",
       "\n",
       "    .dataframe tbody tr th {\n",
       "        vertical-align: top;\n",
       "    }\n",
       "\n",
       "    .dataframe thead th {\n",
       "        text-align: right;\n",
       "    }\n",
       "</style>\n",
       "<table border=\"1\" class=\"dataframe\">\n",
       "  <thead>\n",
       "    <tr style=\"text-align: right;\">\n",
       "      <th></th>\n",
       "      <th>CustomerID</th>\n",
       "      <th>Churn</th>\n",
       "      <th>Tenure</th>\n",
       "      <th>PreferredLoginDevice</th>\n",
       "      <th>CityTier</th>\n",
       "      <th>WarehouseToHome</th>\n",
       "      <th>PreferredPaymentMode</th>\n",
       "      <th>Gender</th>\n",
       "      <th>HourSpendOnApp</th>\n",
       "      <th>NumberOfDeviceRegistered</th>\n",
       "      <th>PreferedOrderCat</th>\n",
       "      <th>SatisfactionScore</th>\n",
       "      <th>MaritalStatus</th>\n",
       "      <th>NumberOfAddress</th>\n",
       "      <th>Complain</th>\n",
       "      <th>OrderAmountHikeFromlastYear</th>\n",
       "      <th>CouponUsed</th>\n",
       "      <th>OrderCount</th>\n",
       "      <th>DaySinceLastOrder</th>\n",
       "      <th>CashbackAmount</th>\n",
       "    </tr>\n",
       "  </thead>\n",
       "  <tbody>\n",
       "    <tr>\n",
       "      <th>0</th>\n",
       "      <td>50001</td>\n",
       "      <td>1</td>\n",
       "      <td>4.0</td>\n",
       "      <td>Mobile</td>\n",
       "      <td>3</td>\n",
       "      <td>6.0</td>\n",
       "      <td>DC</td>\n",
       "      <td>Female</td>\n",
       "      <td>3.0</td>\n",
       "      <td>3</td>\n",
       "      <td>Laptop</td>\n",
       "      <td>2</td>\n",
       "      <td>Single</td>\n",
       "      <td>9</td>\n",
       "      <td>1</td>\n",
       "      <td>11.0</td>\n",
       "      <td>1.0</td>\n",
       "      <td>1.0</td>\n",
       "      <td>5.0</td>\n",
       "      <td>159.93</td>\n",
       "    </tr>\n",
       "    <tr>\n",
       "      <th>1</th>\n",
       "      <td>50002</td>\n",
       "      <td>1</td>\n",
       "      <td>10.0</td>\n",
       "      <td>Mobile</td>\n",
       "      <td>1</td>\n",
       "      <td>8.0</td>\n",
       "      <td>UPI</td>\n",
       "      <td>Male</td>\n",
       "      <td>3.0</td>\n",
       "      <td>4</td>\n",
       "      <td>Mobile</td>\n",
       "      <td>3</td>\n",
       "      <td>Single</td>\n",
       "      <td>7</td>\n",
       "      <td>1</td>\n",
       "      <td>15.0</td>\n",
       "      <td>0.0</td>\n",
       "      <td>1.0</td>\n",
       "      <td>0.0</td>\n",
       "      <td>120.90</td>\n",
       "    </tr>\n",
       "    <tr>\n",
       "      <th>2</th>\n",
       "      <td>50003</td>\n",
       "      <td>1</td>\n",
       "      <td>10.0</td>\n",
       "      <td>Mobile</td>\n",
       "      <td>1</td>\n",
       "      <td>30.0</td>\n",
       "      <td>DC</td>\n",
       "      <td>Male</td>\n",
       "      <td>2.0</td>\n",
       "      <td>4</td>\n",
       "      <td>Mobile</td>\n",
       "      <td>3</td>\n",
       "      <td>Single</td>\n",
       "      <td>6</td>\n",
       "      <td>1</td>\n",
       "      <td>14.0</td>\n",
       "      <td>0.0</td>\n",
       "      <td>1.0</td>\n",
       "      <td>3.0</td>\n",
       "      <td>120.28</td>\n",
       "    </tr>\n",
       "    <tr>\n",
       "      <th>3</th>\n",
       "      <td>50004</td>\n",
       "      <td>1</td>\n",
       "      <td>0.0</td>\n",
       "      <td>Mobile</td>\n",
       "      <td>3</td>\n",
       "      <td>15.0</td>\n",
       "      <td>DC</td>\n",
       "      <td>Male</td>\n",
       "      <td>2.0</td>\n",
       "      <td>4</td>\n",
       "      <td>Laptop</td>\n",
       "      <td>5</td>\n",
       "      <td>Single</td>\n",
       "      <td>8</td>\n",
       "      <td>0</td>\n",
       "      <td>23.0</td>\n",
       "      <td>0.0</td>\n",
       "      <td>1.0</td>\n",
       "      <td>3.0</td>\n",
       "      <td>134.07</td>\n",
       "    </tr>\n",
       "    <tr>\n",
       "      <th>4</th>\n",
       "      <td>50005</td>\n",
       "      <td>1</td>\n",
       "      <td>0.0</td>\n",
       "      <td>Mobile</td>\n",
       "      <td>1</td>\n",
       "      <td>12.0</td>\n",
       "      <td>CC</td>\n",
       "      <td>Male</td>\n",
       "      <td>3.0</td>\n",
       "      <td>3</td>\n",
       "      <td>Mobile</td>\n",
       "      <td>5</td>\n",
       "      <td>Single</td>\n",
       "      <td>3</td>\n",
       "      <td>0</td>\n",
       "      <td>11.0</td>\n",
       "      <td>1.0</td>\n",
       "      <td>1.0</td>\n",
       "      <td>3.0</td>\n",
       "      <td>129.60</td>\n",
       "    </tr>\n",
       "  </tbody>\n",
       "</table>\n",
       "</div>"
      ],
      "text/plain": [
       "   CustomerID  Churn  Tenure PreferredLoginDevice  CityTier  WarehouseToHome  \\\n",
       "0       50001      1     4.0               Mobile         3              6.0   \n",
       "1       50002      1    10.0               Mobile         1              8.0   \n",
       "2       50003      1    10.0               Mobile         1             30.0   \n",
       "3       50004      1     0.0               Mobile         3             15.0   \n",
       "4       50005      1     0.0               Mobile         1             12.0   \n",
       "\n",
       "  PreferredPaymentMode  Gender  HourSpendOnApp  NumberOfDeviceRegistered  \\\n",
       "0                   DC  Female             3.0                         3   \n",
       "1                  UPI    Male             3.0                         4   \n",
       "2                   DC    Male             2.0                         4   \n",
       "3                   DC    Male             2.0                         4   \n",
       "4                   CC    Male             3.0                         3   \n",
       "\n",
       "  PreferedOrderCat  SatisfactionScore MaritalStatus  NumberOfAddress  \\\n",
       "0           Laptop                  2        Single                9   \n",
       "1           Mobile                  3        Single                7   \n",
       "2           Mobile                  3        Single                6   \n",
       "3           Laptop                  5        Single                8   \n",
       "4           Mobile                  5        Single                3   \n",
       "\n",
       "   Complain  OrderAmountHikeFromlastYear  CouponUsed  OrderCount  \\\n",
       "0         1                         11.0         1.0         1.0   \n",
       "1         1                         15.0         0.0         1.0   \n",
       "2         1                         14.0         0.0         1.0   \n",
       "3         0                         23.0         0.0         1.0   \n",
       "4         0                         11.0         1.0         1.0   \n",
       "\n",
       "   DaySinceLastOrder  CashbackAmount  \n",
       "0                5.0          159.93  \n",
       "1                0.0          120.90  \n",
       "2                3.0          120.28  \n",
       "3                3.0          134.07  \n",
       "4                3.0          129.60  "
      ]
     },
     "execution_count": 18,
     "metadata": {},
     "output_type": "execute_result"
    }
   ],
   "source": [
    "df.head()"
   ]
  },
  {
   "cell_type": "code",
   "execution_count": 19,
   "id": "d1f3688d",
   "metadata": {
    "colab": {
     "base_uri": "https://localhost:8080/"
    },
    "id": "d1f3688d",
    "outputId": "ead0ae2f-a77b-47d1-cef2-ba988abf7f0f"
   },
   "outputs": [
    {
     "data": {
      "text/plain": [
       "CustomerID                     0\n",
       "Churn                          0\n",
       "Tenure                         0\n",
       "PreferredLoginDevice           0\n",
       "CityTier                       0\n",
       "WarehouseToHome                0\n",
       "PreferredPaymentMode           0\n",
       "Gender                         0\n",
       "HourSpendOnApp                 0\n",
       "NumberOfDeviceRegistered       0\n",
       "PreferedOrderCat               0\n",
       "SatisfactionScore              0\n",
       "MaritalStatus                  0\n",
       "NumberOfAddress                0\n",
       "Complain                       0\n",
       "OrderAmountHikeFromlastYear    0\n",
       "CouponUsed                     0\n",
       "OrderCount                     0\n",
       "DaySinceLastOrder              0\n",
       "CashbackAmount                 0\n",
       "dtype: int64"
      ]
     },
     "execution_count": 19,
     "metadata": {},
     "output_type": "execute_result"
    }
   ],
   "source": [
    "df.isna().sum()"
   ]
  },
  {
   "cell_type": "code",
   "execution_count": null,
   "id": "fbc2cb5f",
   "metadata": {
    "id": "fbc2cb5f"
   },
   "outputs": [],
   "source": []
  },
  {
   "cell_type": "markdown",
   "id": "sBKfKt-QgBtZ",
   "metadata": {
    "id": "sBKfKt-QgBtZ"
   },
   "source": [
    "### Outlier Handling"
   ]
  },
  {
   "cell_type": "markdown",
   "id": "ezObDnPeCdvS",
   "metadata": {
    "id": "ezObDnPeCdvS"
   },
   "source": [
    "Quantile-based flooring and capping is a technique for removing outliers from data by replacing values that fall below a certain percentile (flooring) or above a certain percentile (capping) with the value of that percentile."
   ]
  },
  {
   "cell_type": "markdown",
   "id": "7f8cc415",
   "metadata": {
    "id": "7f8cc415"
   },
   "source": [
    "**Tenure**\n",
    "\n",
    "According to the percentile distribution of 'Tenure', we observe that customers with Tenure > 21, have not churned and the 99th percentile value is 31 which means the extreme values lies after that. So lets cap at the value 31, ie, all values above 31 will be considered as 31."
   ]
  },
  {
   "cell_type": "code",
   "execution_count": 20,
   "id": "ce3cc7a5",
   "metadata": {
    "colab": {
     "base_uri": "https://localhost:8080/",
     "height": 472
    },
    "id": "ce3cc7a5",
    "outputId": "67fabd7e-603b-4966-f227-e6ac4445f289"
   },
   "outputs": [
    {
     "data": {
      "image/png": "[encoded data removed]",
      "text/plain": [
       "<Figure size 640x480 with 1 Axes>"
      ]
     },
     "metadata": {},
     "output_type": "display_data"
    }
   ],
   "source": [
    "sns.boxplot(data=df, x='Tenure')\n",
    "plt.title('Box plot of Tenure')\n",
    "plt.xlabel('Tenure')\n",
    "plt.show()"
   ]
  },
  {
   "cell_type": "code",
   "execution_count": 21,
   "id": "41811aa0",
   "metadata": {
    "id": "41811aa0"
   },
   "outputs": [],
   "source": [
    "percentile = df.Tenure.quantile([0.99]).values\n",
    "df['Tenure'] = df['Tenure'].apply(lambda x : percentile[0] if x > percentile[0] else x)"
   ]
  },
  {
   "cell_type": "markdown",
   "id": "e5cb2ab1",
   "metadata": {
    "id": "e5cb2ab1"
   },
   "source": [
    "**DaySinceLastOrder**\n",
    "\n",
    "Similarly for DaySinceLastOrder, according to the percentile distribution, we see that values after DaySinceLastOrder=18 are extreme values [30,31,46]. The 99th percentile values is 15. So we shall cap at this position."
   ]
  },
  {
   "cell_type": "code",
   "execution_count": 22,
   "id": "e04e78e6",
   "metadata": {
    "colab": {
     "base_uri": "https://localhost:8080/",
     "height": 472
    },
    "id": "e04e78e6",
    "outputId": "ef3910e0-bcfb-42e0-c325-04118ca880d6"
   },
   "outputs": [
    {
     "data": {
      "image/png": "[encoded data removed]",
      "text/plain": [
       "<Figure size 640x480 with 1 Axes>"
      ]
     },
     "metadata": {},
     "output_type": "display_data"
    }
   ],
   "source": [
    "sns.boxplot(data=df, x='DaySinceLastOrder')\n",
    "plt.title('Box plot of DaySinceLastOrder')\n",
    "plt.xlabel('DaySinceLastOrder')\n",
    "plt.show()"
   ]
  },
  {
   "cell_type": "code",
   "execution_count": 23,
   "id": "e175c7bf",
   "metadata": {
    "id": "e175c7bf"
   },
   "outputs": [],
   "source": [
    "percentile = df.DaySinceLastOrder.quantile([0.99]).values\n",
    "df['DaySinceLastOrder'] = df['DaySinceLastOrder'].apply(lambda x : percentile[0] if x > percentile[0] else x)"
   ]
  },
  {
   "cell_type": "markdown",
   "id": "e99348fc",
   "metadata": {
    "id": "e99348fc"
   },
   "source": [
    "**CashbackAmount**\n",
    "Here we see that there are outliers after the upper bound and below the lower bound. We cap the values at the 1st and 99th percentile.\n"
   ]
  },
  {
   "cell_type": "code",
   "execution_count": 24,
   "id": "69f50852",
   "metadata": {
    "colab": {
     "base_uri": "https://localhost:8080/",
     "height": 472
    },
    "id": "69f50852",
    "outputId": "eee4936e-74eb-4395-a7b7-790ce15057d8"
   },
   "outputs": [
    {
     "data": {
      "image/png": "[encoded data removed]",
      "text/plain": [
       "<Figure size 640x480 with 1 Axes>"
      ]
     },
     "metadata": {},
     "output_type": "display_data"
    }
   ],
   "source": [
    "sns.boxplot(data=df, x='CashbackAmount')\n",
    "plt.title('Box plot of CashbackAmount')\n",
    "plt.xlabel('CashbackAmount')\n",
    "plt.show()"
   ]
  },
  {
   "cell_type": "code",
   "execution_count": 25,
   "id": "b43961fb",
   "metadata": {
    "id": "b43961fb"
   },
   "outputs": [],
   "source": [
    "percentile = df.CashbackAmount.quantile([0.01, 0.99]).values\n",
    "df['CashbackAmount'] = df['CashbackAmount'].apply(lambda x : percentile[0] if x < percentile[0] else percentile[1] if x > percentile[1] else x)"
   ]
  },
  {
   "cell_type": "markdown",
   "id": "9t-D065ICqY7",
   "metadata": {
    "id": "9t-D065ICqY7"
   },
   "source": [
    "Feature engineering add a new feature"
   ]
  },
  {
   "cell_type": "code",
   "execution_count": 26,
   "id": "0880d3b1",
   "metadata": {
    "id": "0880d3b1"
   },
   "outputs": [],
   "source": [
    "# Generating new features from cashback amount divided order count\n",
    "df['avg_cashbk_per_order'] = df['CashbackAmount'] / df['OrderCount']"
   ]
  },
  {
   "cell_type": "code",
   "execution_count": null,
   "id": "CMT6K2eSZaWR",
   "metadata": {
    "id": "CMT6K2eSZaWR"
   },
   "outputs": [],
   "source": []
  },
  {
   "cell_type": "markdown",
   "id": "UdmWl0lXIdzi",
   "metadata": {
    "id": "UdmWl0lXIdzi"
   },
   "source": [
    "Feature selection"
   ]
  },
  {
   "cell_type": "code",
   "execution_count": null,
   "id": "ARJDq3xQZZ6y",
   "metadata": {
    "id": "ARJDq3xQZZ6y"
   },
   "outputs": [],
   "source": []
  },
  {
   "cell_type": "code",
   "execution_count": 27,
   "id": "7c2126cb",
   "metadata": {
    "colab": {
     "base_uri": "https://localhost:8080/",
     "height": 207
    },
    "id": "7c2126cb",
    "outputId": "d1be634f-b8e0-49a2-a0de-c9f5c829bcdd"
   },
   "outputs": [
    {
     "data": {
      "text/html": [
       "<div>\n",
       "<style scoped>\n",
       "    .dataframe tbody tr th:only-of-type {\n",
       "        vertical-align: middle;\n",
       "    }\n",
       "\n",
       "    .dataframe tbody tr th {\n",
       "        vertical-align: top;\n",
       "    }\n",
       "\n",
       "    .dataframe thead th {\n",
       "        text-align: right;\n",
       "    }\n",
       "</style>\n",
       "<table border=\"1\" class=\"dataframe\">\n",
       "  <thead>\n",
       "    <tr style=\"text-align: right;\">\n",
       "      <th></th>\n",
       "      <th>Tenure</th>\n",
       "      <th>CityTier</th>\n",
       "      <th>NumberOfDeviceRegistered</th>\n",
       "      <th>SatisfactionScore</th>\n",
       "      <th>NumberOfAddress</th>\n",
       "      <th>CashbackAmount</th>\n",
       "      <th>WarehouseToHome</th>\n",
       "      <th>HourSpendOnApp</th>\n",
       "      <th>OrderAmountHikeFromlastYear</th>\n",
       "      <th>CouponUsed</th>\n",
       "      <th>OrderCount</th>\n",
       "      <th>DaySinceLastOrder</th>\n",
       "      <th>avg_cashbk_per_order</th>\n",
       "    </tr>\n",
       "    <tr>\n",
       "      <th>Churn</th>\n",
       "      <th></th>\n",
       "      <th></th>\n",
       "      <th></th>\n",
       "      <th></th>\n",
       "      <th></th>\n",
       "      <th></th>\n",
       "      <th></th>\n",
       "      <th></th>\n",
       "      <th></th>\n",
       "      <th></th>\n",
       "      <th></th>\n",
       "      <th></th>\n",
       "      <th></th>\n",
       "    </tr>\n",
       "  </thead>\n",
       "  <tbody>\n",
       "    <tr>\n",
       "      <th>0</th>\n",
       "      <td>11.411363</td>\n",
       "      <td>1.619821</td>\n",
       "      <td>3.639257</td>\n",
       "      <td>3.001282</td>\n",
       "      <td>4.162965</td>\n",
       "      <td>180.855946</td>\n",
       "      <td>15.334259</td>\n",
       "      <td>2.928663</td>\n",
       "      <td>15.739641</td>\n",
       "      <td>1.718069</td>\n",
       "      <td>2.992952</td>\n",
       "      <td>4.686672</td>\n",
       "      <td>97.019101</td>\n",
       "    </tr>\n",
       "    <tr>\n",
       "      <th>1</th>\n",
       "      <td>3.945148</td>\n",
       "      <td>1.827004</td>\n",
       "      <td>3.934599</td>\n",
       "      <td>3.390295</td>\n",
       "      <td>4.466245</td>\n",
       "      <td>160.428142</td>\n",
       "      <td>17.033755</td>\n",
       "      <td>2.964135</td>\n",
       "      <td>15.632911</td>\n",
       "      <td>1.710970</td>\n",
       "      <td>2.808017</td>\n",
       "      <td>3.189873</td>\n",
       "      <td>88.837215</td>\n",
       "    </tr>\n",
       "  </tbody>\n",
       "</table>\n",
       "</div>"
      ],
      "text/plain": [
       "          Tenure  CityTier  NumberOfDeviceRegistered  SatisfactionScore  \\\n",
       "Churn                                                                     \n",
       "0      11.411363  1.619821                  3.639257           3.001282   \n",
       "1       3.945148  1.827004                  3.934599           3.390295   \n",
       "\n",
       "       NumberOfAddress  CashbackAmount  WarehouseToHome  HourSpendOnApp  \\\n",
       "Churn                                                                     \n",
       "0             4.162965      180.855946        15.334259        2.928663   \n",
       "1             4.466245      160.428142        17.033755        2.964135   \n",
       "\n",
       "       OrderAmountHikeFromlastYear  CouponUsed  OrderCount  DaySinceLastOrder  \\\n",
       "Churn                                                                           \n",
       "0                        15.739641    1.718069    2.992952           4.686672   \n",
       "1                        15.632911    1.710970    2.808017           3.189873   \n",
       "\n",
       "       avg_cashbk_per_order  \n",
       "Churn                        \n",
       "0                 97.019101  \n",
       "1                 88.837215  "
      ]
     },
     "execution_count": 27,
     "metadata": {},
     "output_type": "execute_result"
    }
   ],
   "source": [
    "# Checking for prediction power of each numerical variables\n",
    "df[['Churn','Tenure','CityTier','NumberOfDeviceRegistered',\n",
    "            'SatisfactionScore', 'NumberOfAddress', 'CashbackAmount'\n",
    "             ,'WarehouseToHome', 'HourSpendOnApp','OrderAmountHikeFromlastYear',\n",
    "               'CouponUsed', 'OrderCount', 'DaySinceLastOrder', 'avg_cashbk_per_order']].groupby(['Churn']).mean()"
   ]
  },
  {
   "cell_type": "code",
   "execution_count": 28,
   "id": "b452fb27",
   "metadata": {
    "id": "b452fb27"
   },
   "outputs": [],
   "source": [
    "# Function to perform statistical test on numerical variables to determine whether to reject or accept H0\n",
    "def num_stats(num_col):\n",
    "  group_0 = df[df['Churn']==0][num_col]\n",
    "  group_1 = df[df['Churn']==1][num_col]\n",
    "\n",
    "  _, p_value = stats.ttest_ind(group_0,group_1,equal_var=False)\n",
    "\n",
    "  print('P-value : ', p_value)\n",
    "  if(p_value<0.05):\n",
    "    print('Reject null hypothesis')\n",
    "  else:\n",
    "    print('Do not reject null hypotheis')"
   ]
  },
  {
   "cell_type": "markdown",
   "id": "CfIjhqQ-Br8H",
   "metadata": {
    "id": "CfIjhqQ-Br8H"
   },
   "source": [
    "function that can be used to perform a statistical test on two numerical variables. The function takes in a numerical column as input and then performs a t-test on the two groups of data, where the groups are defined by the Churn variable. The t-test is a parametric test that is used to compare the means of two groups. The function then prints the p-value of the t-test, which can be used to determine whether to reject or accept the null hypothesis.\n",
    "\n",
    "The null hypothesis in this case is that the means of the two groups are equal. If the p-value is less than 0.05, then we can reject the null hypothesis and conclude that there is a significant difference between the means of the two groups. Otherwise, we cannot reject the null hypothesis and conclude that there is no significant difference between the means of the two groups."
   ]
  },
  {
   "cell_type": "code",
   "execution_count": 29,
   "id": "6ab97322",
   "metadata": {
    "id": "6ab97322"
   },
   "outputs": [],
   "source": [
    "def chisq_test(cat_col, df):\n",
    "    CrossTabResult=pd.crosstab(index=df['Churn'], columns=df[cat_col])\n",
    "    ChiSqResult = chi2_contingency(CrossTabResult)\n",
    "\n",
    "    # If the ChiSq P-Value is <0.05, that means we reject H0\n",
    "    if (ChiSqResult[1] < 0.05):\n",
    "        print('P-Value :', ChiSqResult[1])\n",
    "        print('Reject null hypothesis')\n",
    "    else:\n",
    "        print('P-Value :', ChiSqResult[1])\n",
    "        print('Do not reject null hypotheis')"
   ]
  },
  {
   "cell_type": "markdown",
   "id": "Vn3Qm1LhCAhh",
   "metadata": {
    "id": "Vn3Qm1LhCAhh"
   },
   "source": [
    "function that can be used to perform a chi-squared test on a categorical variable. The function takes in a categorical column as input and then performs a chi-squared test on the two groups of data, where the groups are defined by the Churn variable. The chi-squared test is a non-parametric test that is used to compare the distributions of two categorical variables. The function then prints the p-value of the chi-squared test, which can be used to determine whether to reject or accept the null hypothesis.\n",
    "\n",
    "The null hypothesis in this case is that the two categorical variables are independent. If the p-value is less than 0.05, then we can reject the null hypothesis and conclude that there is a significant relationship between the two categorical variables. Otherwise, we cannot reject the null hypothesis and conclude that there is no significant relationship between the two categorical variables.\n"
   ]
  },
  {
   "cell_type": "code",
   "execution_count": 30,
   "id": "fbe9addf",
   "metadata": {
    "id": "fbe9addf"
   },
   "outputs": [],
   "source": [
    "num_col_list = ['Tenure', 'WarehouseToHome', 'OrderAmountHikeFromlastYear', 'CouponUsed', 'OrderCount',\n",
    "                'DaySinceLastOrder', 'CashbackAmount', 'HourSpendOnApp', 'NumberOfDeviceRegistered', 'NumberOfAddress','avg_cashbk_per_order']"
   ]
  },
  {
   "cell_type": "code",
   "execution_count": 31,
   "id": "d71f988d",
   "metadata": {
    "colab": {
     "base_uri": "https://localhost:8080/"
    },
    "id": "d71f988d",
    "outputId": "d62a4ece-fc27-4307-9b5e-bf2d49129054"
   },
   "outputs": [
    {
     "name": "stdout",
     "output_type": "stream",
     "text": [
      "Column Name :  Tenure\n",
      "P-value :  2.008277595367716e-202\n",
      "Reject null hypothesis\n",
      "---------------------------------------------\n",
      "Column Name :  WarehouseToHome\n",
      "P-value :  7.60206018025374e-09\n",
      "Reject null hypothesis\n",
      "---------------------------------------------\n",
      "Column Name :  OrderAmountHikeFromlastYear\n",
      "P-value :  0.4237779148876236\n",
      "Do not reject null hypotheis\n",
      "---------------------------------------------\n",
      "Column Name :  CouponUsed\n",
      "P-value :  0.9159384616337447\n",
      "Do not reject null hypotheis\n",
      "---------------------------------------------\n",
      "Column Name :  OrderCount\n",
      "P-value :  0.06430615371620459\n",
      "Do not reject null hypotheis\n",
      "---------------------------------------------\n",
      "Column Name :  DaySinceLastOrder\n",
      "P-value :  3.1021436368381747e-39\n",
      "Reject null hypothesis\n",
      "---------------------------------------------\n",
      "Column Name :  CashbackAmount\n",
      "P-value :  3.03484589898161e-43\n",
      "Reject null hypothesis\n",
      "---------------------------------------------\n",
      "Column Name :  HourSpendOnApp\n",
      "P-value :  0.14300103213870458\n",
      "Do not reject null hypotheis\n",
      "---------------------------------------------\n",
      "Column Name :  NumberOfDeviceRegistered\n",
      "P-value :  6.939036502330203e-16\n",
      "Reject null hypothesis\n",
      "---------------------------------------------\n",
      "Column Name :  NumberOfAddress\n",
      "P-value :  0.0019934997986827364\n",
      "Reject null hypothesis\n",
      "---------------------------------------------\n",
      "Column Name :  avg_cashbk_per_order\n",
      "P-value :  8.524478248944163e-07\n",
      "Reject null hypothesis\n",
      "---------------------------------------------\n"
     ]
    }
   ],
   "source": [
    "for col in num_col_list:\n",
    "  print('Column Name : ', col)\n",
    "  num_stats(col)\n",
    "  print('---------------------------------------------')"
   ]
  },
  {
   "cell_type": "code",
   "execution_count": 32,
   "id": "d3cae48c",
   "metadata": {
    "id": "d3cae48c"
   },
   "outputs": [],
   "source": [
    "cat_col_list = ['PreferredLoginDevice', 'CityTier', 'PreferredPaymentMode',\n",
    "                'PreferedOrderCat', 'SatisfactionScore', 'MaritalStatus', 'Gender', 'Complain']"
   ]
  },
  {
   "cell_type": "code",
   "execution_count": 33,
   "id": "03a898d0",
   "metadata": {
    "colab": {
     "base_uri": "https://localhost:8080/"
    },
    "id": "03a898d0",
    "outputId": "afc742ef-bc85-464f-90a8-2d3449b047db"
   },
   "outputs": [
    {
     "name": "stdout",
     "output_type": "stream",
     "text": [
      "Column Name :  Tenure\n",
      "P-value :  2.008277595367716e-202\n",
      "Reject null hypothesis\n",
      "---------------------------------------------\n",
      "Column Name :  WarehouseToHome\n",
      "P-value :  7.60206018025374e-09\n",
      "Reject null hypothesis\n",
      "---------------------------------------------\n",
      "Column Name :  OrderAmountHikeFromlastYear\n",
      "P-value :  0.4237779148876236\n",
      "Do not reject null hypotheis\n",
      "---------------------------------------------\n",
      "Column Name :  CouponUsed\n",
      "P-value :  0.9159384616337447\n",
      "Do not reject null hypotheis\n",
      "---------------------------------------------\n",
      "Column Name :  OrderCount\n",
      "P-value :  0.06430615371620459\n",
      "Do not reject null hypotheis\n",
      "---------------------------------------------\n",
      "Column Name :  DaySinceLastOrder\n",
      "P-value :  3.1021436368381747e-39\n",
      "Reject null hypothesis\n",
      "---------------------------------------------\n",
      "Column Name :  CashbackAmount\n",
      "P-value :  3.03484589898161e-43\n",
      "Reject null hypothesis\n",
      "---------------------------------------------\n",
      "Column Name :  HourSpendOnApp\n",
      "P-value :  0.14300103213870458\n",
      "Do not reject null hypotheis\n",
      "---------------------------------------------\n",
      "Column Name :  NumberOfDeviceRegistered\n",
      "P-value :  6.939036502330203e-16\n",
      "Reject null hypothesis\n",
      "---------------------------------------------\n",
      "Column Name :  NumberOfAddress\n",
      "P-value :  0.0019934997986827364\n",
      "Reject null hypothesis\n",
      "---------------------------------------------\n",
      "Column Name :  avg_cashbk_per_order\n",
      "P-value :  8.524478248944163e-07\n",
      "Reject null hypothesis\n",
      "---------------------------------------------\n"
     ]
    }
   ],
   "source": [
    "for col in num_col_list:\n",
    "  print('Column Name : ', col)\n",
    "  num_stats(col)\n",
    "  print('---------------------------------------------')"
   ]
  },
  {
   "cell_type": "code",
   "execution_count": 34,
   "id": "694052bb",
   "metadata": {
    "colab": {
     "base_uri": "https://localhost:8080/"
    },
    "id": "694052bb",
    "outputId": "53d408c9-a9e6-4760-ddf4-053a6ef7aa8b"
   },
   "outputs": [
    {
     "name": "stdout",
     "output_type": "stream",
     "text": [
      "Column Name :  PreferredLoginDevice\n",
      "P-Value : 0.0001477040239947965\n",
      "Reject null hypothesis\n",
      "---------------------------------------------\n",
      "Column Name :  CityTier\n",
      "P-Value : 1.2612000812079956e-09\n",
      "Reject null hypothesis\n",
      "---------------------------------------------\n",
      "Column Name :  PreferredPaymentMode\n",
      "P-Value : 1.4978570960706217e-10\n",
      "Reject null hypothesis\n",
      "---------------------------------------------\n",
      "Column Name :  PreferedOrderCat\n",
      "P-Value : 3.11924340428766e-61\n",
      "Reject null hypothesis\n",
      "---------------------------------------------\n",
      "Column Name :  SatisfactionScore\n",
      "P-Value : 2.4233349782737515e-14\n",
      "Reject null hypothesis\n",
      "---------------------------------------------\n",
      "Column Name :  MaritalStatus\n",
      "P-Value : 1.073011277910542e-41\n",
      "Reject null hypothesis\n",
      "---------------------------------------------\n",
      "Column Name :  Gender\n",
      "P-Value : 0.030820940334890086\n",
      "Reject null hypothesis\n",
      "---------------------------------------------\n",
      "Column Name :  Complain\n",
      "P-Value : 2.6644609654641377e-78\n",
      "Reject null hypothesis\n",
      "---------------------------------------------\n"
     ]
    }
   ],
   "source": [
    "for col in cat_col_list:\n",
    "  print('Column Name : ', col)\n",
    "  chisq_test(col, df)\n",
    "  print('---------------------------------------------')"
   ]
  },
  {
   "cell_type": "code",
   "execution_count": 35,
   "id": "Q6y4mQOqpV5k",
   "metadata": {
    "id": "Q6y4mQOqpV5k"
   },
   "outputs": [],
   "source": [
    "df.drop(columns=['CustomerID', 'HourSpendOnApp', 'OrderAmountHikeFromlastYear', 'CouponUsed', 'OrderCount'], axis=1, inplace=True)"
   ]
  },
  {
   "cell_type": "markdown",
   "id": "010610f4",
   "metadata": {
    "id": "010610f4"
   },
   "source": [
    "## Feature Encoding"
   ]
  },
  {
   "cell_type": "markdown",
   "id": "0b607ab5",
   "metadata": {
    "id": "0b607ab5"
   },
   "source": [
    "### Label Encoding"
   ]
  },
  {
   "cell_type": "code",
   "execution_count": 36,
   "id": "df10c97d",
   "metadata": {
    "id": "df10c97d"
   },
   "outputs": [],
   "source": [
    "le =LabelEncoder()\n",
    "df['Gender'] =le.fit_transform(df['Gender'])\n",
    "df['MaritalStatus'] =le.fit_transform(df['MaritalStatus'])\n",
    "df['PreferredLoginDevice'] =le.fit_transform(df['PreferredLoginDevice'])"
   ]
  },
  {
   "cell_type": "markdown",
   "id": "b530b96f",
   "metadata": {
    "id": "b530b96f"
   },
   "source": [
    "### One Hot Encoding"
   ]
  },
  {
   "cell_type": "code",
   "execution_count": 37,
   "id": "CQgsmeE_nBC9",
   "metadata": {
    "id": "CQgsmeE_nBC9"
   },
   "outputs": [],
   "source": [
    "cat=['PreferredPaymentMode','PreferedOrderCat']"
   ]
  },
  {
   "cell_type": "code",
   "execution_count": 38,
   "id": "a6175537",
   "metadata": {
    "colab": {
     "base_uri": "https://localhost:8080/",
     "height": 317
    },
    "id": "a6175537",
    "outputId": "5584446a-f122-4217-be07-a92b34708775"
   },
   "outputs": [
    {
     "data": {
      "text/html": [
       "<div>\n",
       "<style scoped>\n",
       "    .dataframe tbody tr th:only-of-type {\n",
       "        vertical-align: middle;\n",
       "    }\n",
       "\n",
       "    .dataframe tbody tr th {\n",
       "        vertical-align: top;\n",
       "    }\n",
       "\n",
       "    .dataframe thead th {\n",
       "        text-align: right;\n",
       "    }\n",
       "</style>\n",
       "<table border=\"1\" class=\"dataframe\">\n",
       "  <thead>\n",
       "    <tr style=\"text-align: right;\">\n",
       "      <th></th>\n",
       "      <th>Churn</th>\n",
       "      <th>Tenure</th>\n",
       "      <th>PreferredLoginDevice</th>\n",
       "      <th>CityTier</th>\n",
       "      <th>WarehouseToHome</th>\n",
       "      <th>Gender</th>\n",
       "      <th>NumberOfDeviceRegistered</th>\n",
       "      <th>SatisfactionScore</th>\n",
       "      <th>MaritalStatus</th>\n",
       "      <th>NumberOfAddress</th>\n",
       "      <th>...</th>\n",
       "      <th>PreferredPaymentMode_CC</th>\n",
       "      <th>PreferredPaymentMode_COD</th>\n",
       "      <th>PreferredPaymentMode_DC</th>\n",
       "      <th>PreferredPaymentMode_E wallet</th>\n",
       "      <th>PreferredPaymentMode_UPI</th>\n",
       "      <th>PreferedOrderCat_Fashion</th>\n",
       "      <th>PreferedOrderCat_Grocery</th>\n",
       "      <th>PreferedOrderCat_Laptop</th>\n",
       "      <th>PreferedOrderCat_Mobile</th>\n",
       "      <th>PreferedOrderCat_Others</th>\n",
       "    </tr>\n",
       "  </thead>\n",
       "  <tbody>\n",
       "    <tr>\n",
       "      <th>0</th>\n",
       "      <td>1</td>\n",
       "      <td>4.0</td>\n",
       "      <td>1</td>\n",
       "      <td>3</td>\n",
       "      <td>6.0</td>\n",
       "      <td>0</td>\n",
       "      <td>3</td>\n",
       "      <td>2</td>\n",
       "      <td>2</td>\n",
       "      <td>9</td>\n",
       "      <td>...</td>\n",
       "      <td>0</td>\n",
       "      <td>0</td>\n",
       "      <td>1</td>\n",
       "      <td>0</td>\n",
       "      <td>0</td>\n",
       "      <td>0</td>\n",
       "      <td>0</td>\n",
       "      <td>1</td>\n",
       "      <td>0</td>\n",
       "      <td>0</td>\n",
       "    </tr>\n",
       "    <tr>\n",
       "      <th>1</th>\n",
       "      <td>1</td>\n",
       "      <td>10.0</td>\n",
       "      <td>1</td>\n",
       "      <td>1</td>\n",
       "      <td>8.0</td>\n",
       "      <td>1</td>\n",
       "      <td>4</td>\n",
       "      <td>3</td>\n",
       "      <td>2</td>\n",
       "      <td>7</td>\n",
       "      <td>...</td>\n",
       "      <td>0</td>\n",
       "      <td>0</td>\n",
       "      <td>0</td>\n",
       "      <td>0</td>\n",
       "      <td>1</td>\n",
       "      <td>0</td>\n",
       "      <td>0</td>\n",
       "      <td>0</td>\n",
       "      <td>1</td>\n",
       "      <td>0</td>\n",
       "    </tr>\n",
       "    <tr>\n",
       "      <th>2</th>\n",
       "      <td>1</td>\n",
       "      <td>10.0</td>\n",
       "      <td>1</td>\n",
       "      <td>1</td>\n",
       "      <td>30.0</td>\n",
       "      <td>1</td>\n",
       "      <td>4</td>\n",
       "      <td>3</td>\n",
       "      <td>2</td>\n",
       "      <td>6</td>\n",
       "      <td>...</td>\n",
       "      <td>0</td>\n",
       "      <td>0</td>\n",
       "      <td>1</td>\n",
       "      <td>0</td>\n",
       "      <td>0</td>\n",
       "      <td>0</td>\n",
       "      <td>0</td>\n",
       "      <td>0</td>\n",
       "      <td>1</td>\n",
       "      <td>0</td>\n",
       "    </tr>\n",
       "    <tr>\n",
       "      <th>3</th>\n",
       "      <td>1</td>\n",
       "      <td>0.0</td>\n",
       "      <td>1</td>\n",
       "      <td>3</td>\n",
       "      <td>15.0</td>\n",
       "      <td>1</td>\n",
       "      <td>4</td>\n",
       "      <td>5</td>\n",
       "      <td>2</td>\n",
       "      <td>8</td>\n",
       "      <td>...</td>\n",
       "      <td>0</td>\n",
       "      <td>0</td>\n",
       "      <td>1</td>\n",
       "      <td>0</td>\n",
       "      <td>0</td>\n",
       "      <td>0</td>\n",
       "      <td>0</td>\n",
       "      <td>1</td>\n",
       "      <td>0</td>\n",
       "      <td>0</td>\n",
       "    </tr>\n",
       "    <tr>\n",
       "      <th>4</th>\n",
       "      <td>1</td>\n",
       "      <td>0.0</td>\n",
       "      <td>1</td>\n",
       "      <td>1</td>\n",
       "      <td>12.0</td>\n",
       "      <td>1</td>\n",
       "      <td>3</td>\n",
       "      <td>5</td>\n",
       "      <td>2</td>\n",
       "      <td>3</td>\n",
       "      <td>...</td>\n",
       "      <td>1</td>\n",
       "      <td>0</td>\n",
       "      <td>0</td>\n",
       "      <td>0</td>\n",
       "      <td>0</td>\n",
       "      <td>0</td>\n",
       "      <td>0</td>\n",
       "      <td>0</td>\n",
       "      <td>1</td>\n",
       "      <td>0</td>\n",
       "    </tr>\n",
       "  </tbody>\n",
       "</table>\n",
       "<p>5 rows × 24 columns</p>\n",
       "</div>"
      ],
      "text/plain": [
       "   Churn  Tenure  PreferredLoginDevice  CityTier  WarehouseToHome  Gender  \\\n",
       "0      1     4.0                     1         3              6.0       0   \n",
       "1      1    10.0                     1         1              8.0       1   \n",
       "2      1    10.0                     1         1             30.0       1   \n",
       "3      1     0.0                     1         3             15.0       1   \n",
       "4      1     0.0                     1         1             12.0       1   \n",
       "\n",
       "   NumberOfDeviceRegistered  SatisfactionScore  MaritalStatus  \\\n",
       "0                         3                  2              2   \n",
       "1                         4                  3              2   \n",
       "2                         4                  3              2   \n",
       "3                         4                  5              2   \n",
       "4                         3                  5              2   \n",
       "\n",
       "   NumberOfAddress  ...  PreferredPaymentMode_CC  PreferredPaymentMode_COD  \\\n",
       "0                9  ...                        0                         0   \n",
       "1                7  ...                        0                         0   \n",
       "2                6  ...                        0                         0   \n",
       "3                8  ...                        0                         0   \n",
       "4                3  ...                        1                         0   \n",
       "\n",
       "   PreferredPaymentMode_DC  PreferredPaymentMode_E wallet  \\\n",
       "0                        1                              0   \n",
       "1                        0                              0   \n",
       "2                        1                              0   \n",
       "3                        1                              0   \n",
       "4                        0                              0   \n",
       "\n",
       "   PreferredPaymentMode_UPI  PreferedOrderCat_Fashion  \\\n",
       "0                         0                         0   \n",
       "1                         1                         0   \n",
       "2                         0                         0   \n",
       "3                         0                         0   \n",
       "4                         0                         0   \n",
       "\n",
       "   PreferedOrderCat_Grocery  PreferedOrderCat_Laptop  PreferedOrderCat_Mobile  \\\n",
       "0                         0                        1                        0   \n",
       "1                         0                        0                        1   \n",
       "2                         0                        0                        1   \n",
       "3                         0                        1                        0   \n",
       "4                         0                        0                        1   \n",
       "\n",
       "   PreferedOrderCat_Others  \n",
       "0                        0  \n",
       "1                        0  \n",
       "2                        0  \n",
       "3                        0  \n",
       "4                        0  \n",
       "\n",
       "[5 rows x 24 columns]"
      ]
     },
     "execution_count": 38,
     "metadata": {},
     "output_type": "execute_result"
    }
   ],
   "source": [
    "df_encoded= pd.get_dummies(df,columns=cat)\n",
    "df_encoded.head()"
   ]
  },
  {
   "cell_type": "markdown",
   "id": "c0c86c5c",
   "metadata": {
    "id": "c0c86c5c"
   },
   "source": [
    "### ***Handling imbalance***"
   ]
  },
  {
   "cell_type": "code",
   "execution_count": 39,
   "id": "e46qtDmyFw3i",
   "metadata": {
    "colab": {
     "base_uri": "https://localhost:8080/"
    },
    "id": "e46qtDmyFw3i",
    "outputId": "2f0e733a-ea01-4f82-e0c1-5ac851d6e459"
   },
   "outputs": [
    {
     "data": {
      "text/plain": [
       "Index(['Churn', 'Tenure', 'PreferredLoginDevice', 'CityTier',\n",
       "       'WarehouseToHome', 'Gender', 'NumberOfDeviceRegistered',\n",
       "       'SatisfactionScore', 'MaritalStatus', 'NumberOfAddress', 'Complain',\n",
       "       'DaySinceLastOrder', 'CashbackAmount', 'avg_cashbk_per_order',\n",
       "       'PreferredPaymentMode_CC', 'PreferredPaymentMode_COD',\n",
       "       'PreferredPaymentMode_DC', 'PreferredPaymentMode_E wallet',\n",
       "       'PreferredPaymentMode_UPI', 'PreferedOrderCat_Fashion',\n",
       "       'PreferedOrderCat_Grocery', 'PreferedOrderCat_Laptop',\n",
       "       'PreferedOrderCat_Mobile', 'PreferedOrderCat_Others'],\n",
       "      dtype='object')"
      ]
     },
     "execution_count": 39,
     "metadata": {},
     "output_type": "execute_result"
    }
   ],
   "source": [
    "df_encoded.columns"
   ]
  },
  {
   "cell_type": "code",
   "execution_count": 41,
   "id": "65fb50b7",
   "metadata": {},
   "outputs": [],
   "source": [
    "# Separate dependent and independent variables\n",
    "X = df_encoded.drop('Churn', axis=1)\n",
    "y= df_encoded.Churn"
   ]
  },
  {
   "cell_type": "code",
   "execution_count": 42,
   "id": "dRXaaUEqIrSv",
   "metadata": {
    "id": "dRXaaUEqIrSv"
   },
   "outputs": [],
   "source": [
    "#Random oversampling:\n",
    "\n",
    "\n",
    "from imblearn.over_sampling import RandomOverSampler\n",
    "\n",
    "# Initialize random oversampler\n",
    "ros = RandomOverSampler()\n",
    "\n",
    "# Fit and transform the data\n",
    "X_resampled, y_resampled = ros.fit_resample(X, y)\n"
   ]
  },
  {
   "cell_type": "code",
   "execution_count": 43,
   "id": "4ijs68ckI4mj",
   "metadata": {
    "colab": {
     "base_uri": "https://localhost:8080/",
     "height": 317
    },
    "id": "4ijs68ckI4mj",
    "outputId": "73892267-fa0a-4f72-efdc-bf882c772f9d"
   },
   "outputs": [
    {
     "data": {
      "text/html": [
       "<div>\n",
       "<style scoped>\n",
       "    .dataframe tbody tr th:only-of-type {\n",
       "        vertical-align: middle;\n",
       "    }\n",
       "\n",
       "    .dataframe tbody tr th {\n",
       "        vertical-align: top;\n",
       "    }\n",
       "\n",
       "    .dataframe thead th {\n",
       "        text-align: right;\n",
       "    }\n",
       "</style>\n",
       "<table border=\"1\" class=\"dataframe\">\n",
       "  <thead>\n",
       "    <tr style=\"text-align: right;\">\n",
       "      <th></th>\n",
       "      <th>Tenure</th>\n",
       "      <th>PreferredLoginDevice</th>\n",
       "      <th>CityTier</th>\n",
       "      <th>WarehouseToHome</th>\n",
       "      <th>Gender</th>\n",
       "      <th>NumberOfDeviceRegistered</th>\n",
       "      <th>SatisfactionScore</th>\n",
       "      <th>MaritalStatus</th>\n",
       "      <th>NumberOfAddress</th>\n",
       "      <th>Complain</th>\n",
       "      <th>...</th>\n",
       "      <th>PreferredPaymentMode_COD</th>\n",
       "      <th>PreferredPaymentMode_DC</th>\n",
       "      <th>PreferredPaymentMode_E wallet</th>\n",
       "      <th>PreferredPaymentMode_UPI</th>\n",
       "      <th>PreferedOrderCat_Fashion</th>\n",
       "      <th>PreferedOrderCat_Grocery</th>\n",
       "      <th>PreferedOrderCat_Laptop</th>\n",
       "      <th>PreferedOrderCat_Mobile</th>\n",
       "      <th>PreferedOrderCat_Others</th>\n",
       "      <th>Churn</th>\n",
       "    </tr>\n",
       "  </thead>\n",
       "  <tbody>\n",
       "    <tr>\n",
       "      <th>0</th>\n",
       "      <td>4.0</td>\n",
       "      <td>1</td>\n",
       "      <td>3</td>\n",
       "      <td>6.0</td>\n",
       "      <td>0</td>\n",
       "      <td>3</td>\n",
       "      <td>2</td>\n",
       "      <td>2</td>\n",
       "      <td>9</td>\n",
       "      <td>1</td>\n",
       "      <td>...</td>\n",
       "      <td>0</td>\n",
       "      <td>1</td>\n",
       "      <td>0</td>\n",
       "      <td>0</td>\n",
       "      <td>0</td>\n",
       "      <td>0</td>\n",
       "      <td>1</td>\n",
       "      <td>0</td>\n",
       "      <td>0</td>\n",
       "      <td>1</td>\n",
       "    </tr>\n",
       "    <tr>\n",
       "      <th>1</th>\n",
       "      <td>10.0</td>\n",
       "      <td>1</td>\n",
       "      <td>1</td>\n",
       "      <td>8.0</td>\n",
       "      <td>1</td>\n",
       "      <td>4</td>\n",
       "      <td>3</td>\n",
       "      <td>2</td>\n",
       "      <td>7</td>\n",
       "      <td>1</td>\n",
       "      <td>...</td>\n",
       "      <td>0</td>\n",
       "      <td>0</td>\n",
       "      <td>0</td>\n",
       "      <td>1</td>\n",
       "      <td>0</td>\n",
       "      <td>0</td>\n",
       "      <td>0</td>\n",
       "      <td>1</td>\n",
       "      <td>0</td>\n",
       "      <td>1</td>\n",
       "    </tr>\n",
       "    <tr>\n",
       "      <th>2</th>\n",
       "      <td>10.0</td>\n",
       "      <td>1</td>\n",
       "      <td>1</td>\n",
       "      <td>30.0</td>\n",
       "      <td>1</td>\n",
       "      <td>4</td>\n",
       "      <td>3</td>\n",
       "      <td>2</td>\n",
       "      <td>6</td>\n",
       "      <td>1</td>\n",
       "      <td>...</td>\n",
       "      <td>0</td>\n",
       "      <td>1</td>\n",
       "      <td>0</td>\n",
       "      <td>0</td>\n",
       "      <td>0</td>\n",
       "      <td>0</td>\n",
       "      <td>0</td>\n",
       "      <td>1</td>\n",
       "      <td>0</td>\n",
       "      <td>1</td>\n",
       "    </tr>\n",
       "    <tr>\n",
       "      <th>3</th>\n",
       "      <td>0.0</td>\n",
       "      <td>1</td>\n",
       "      <td>3</td>\n",
       "      <td>15.0</td>\n",
       "      <td>1</td>\n",
       "      <td>4</td>\n",
       "      <td>5</td>\n",
       "      <td>2</td>\n",
       "      <td>8</td>\n",
       "      <td>0</td>\n",
       "      <td>...</td>\n",
       "      <td>0</td>\n",
       "      <td>1</td>\n",
       "      <td>0</td>\n",
       "      <td>0</td>\n",
       "      <td>0</td>\n",
       "      <td>0</td>\n",
       "      <td>1</td>\n",
       "      <td>0</td>\n",
       "      <td>0</td>\n",
       "      <td>1</td>\n",
       "    </tr>\n",
       "    <tr>\n",
       "      <th>4</th>\n",
       "      <td>0.0</td>\n",
       "      <td>1</td>\n",
       "      <td>1</td>\n",
       "      <td>12.0</td>\n",
       "      <td>1</td>\n",
       "      <td>3</td>\n",
       "      <td>5</td>\n",
       "      <td>2</td>\n",
       "      <td>3</td>\n",
       "      <td>0</td>\n",
       "      <td>...</td>\n",
       "      <td>0</td>\n",
       "      <td>0</td>\n",
       "      <td>0</td>\n",
       "      <td>0</td>\n",
       "      <td>0</td>\n",
       "      <td>0</td>\n",
       "      <td>0</td>\n",
       "      <td>1</td>\n",
       "      <td>0</td>\n",
       "      <td>1</td>\n",
       "    </tr>\n",
       "  </tbody>\n",
       "</table>\n",
       "<p>5 rows × 24 columns</p>\n",
       "</div>"
      ],
      "text/plain": [
       "   Tenure  PreferredLoginDevice  CityTier  WarehouseToHome  Gender  \\\n",
       "0     4.0                     1         3              6.0       0   \n",
       "1    10.0                     1         1              8.0       1   \n",
       "2    10.0                     1         1             30.0       1   \n",
       "3     0.0                     1         3             15.0       1   \n",
       "4     0.0                     1         1             12.0       1   \n",
       "\n",
       "   NumberOfDeviceRegistered  SatisfactionScore  MaritalStatus  \\\n",
       "0                         3                  2              2   \n",
       "1                         4                  3              2   \n",
       "2                         4                  3              2   \n",
       "3                         4                  5              2   \n",
       "4                         3                  5              2   \n",
       "\n",
       "   NumberOfAddress  Complain  ...  PreferredPaymentMode_COD  \\\n",
       "0                9         1  ...                         0   \n",
       "1                7         1  ...                         0   \n",
       "2                6         1  ...                         0   \n",
       "3                8         0  ...                         0   \n",
       "4                3         0  ...                         0   \n",
       "\n",
       "   PreferredPaymentMode_DC  PreferredPaymentMode_E wallet  \\\n",
       "0                        1                              0   \n",
       "1                        0                              0   \n",
       "2                        1                              0   \n",
       "3                        1                              0   \n",
       "4                        0                              0   \n",
       "\n",
       "   PreferredPaymentMode_UPI  PreferedOrderCat_Fashion  \\\n",
       "0                         0                         0   \n",
       "1                         1                         0   \n",
       "2                         0                         0   \n",
       "3                         0                         0   \n",
       "4                         0                         0   \n",
       "\n",
       "   PreferedOrderCat_Grocery  PreferedOrderCat_Laptop  PreferedOrderCat_Mobile  \\\n",
       "0                         0                        1                        0   \n",
       "1                         0                        0                        1   \n",
       "2                         0                        0                        1   \n",
       "3                         0                        1                        0   \n",
       "4                         0                        0                        1   \n",
       "\n",
       "   PreferedOrderCat_Others  Churn  \n",
       "0                        0      1  \n",
       "1                        0      1  \n",
       "2                        0      1  \n",
       "3                        0      1  \n",
       "4                        0      1  \n",
       "\n",
       "[5 rows x 24 columns]"
      ]
     },
     "execution_count": 43,
     "metadata": {},
     "output_type": "execute_result"
    }
   ],
   "source": [
    "#Combine balanced X and y\n",
    "df_encoded = pd.DataFrame(X_resampled, columns=df_encoded.drop('Churn', axis=1).columns)\n",
    "df_encoded['Churn'] = y_resampled\n",
    "\n",
    "df_encoded.head()"
   ]
  },
  {
   "cell_type": "code",
   "execution_count": 44,
   "id": "83MzfJLGJi06",
   "metadata": {
    "colab": {
     "base_uri": "https://localhost:8080/"
    },
    "id": "83MzfJLGJi06",
    "outputId": "38e31991-d86b-4340-eb54-9eae97661cdf"
   },
   "outputs": [
    {
     "data": {
      "text/plain": [
       "1    4682\n",
       "0    4682\n",
       "Name: Churn, dtype: int64"
      ]
     },
     "execution_count": 44,
     "metadata": {},
     "output_type": "execute_result"
    }
   ],
   "source": [
    "df_encoded.Churn.value_counts()"
   ]
  },
  {
   "cell_type": "code",
   "execution_count": 45,
   "id": "1ca8d4ed",
   "metadata": {},
   "outputs": [],
   "source": [
    "df_encoded.to_csv('encoded.csv', index = True)"
   ]
  },
  {
   "cell_type": "code",
   "execution_count": null,
   "id": "K0ndxlpB18_x",
   "metadata": {
    "colab": {
     "background_save": true
    },
    "id": "K0ndxlpB18_x"
   },
   "outputs": [],
   "source": []
  }
 ],
 "metadata": {
  "colab": {
   "provenance": []
  },
  "kernelspec": {
   "display_name": "Python 3 (ipykernel)",
   "language": "python",
   "name": "python3"
  },
  "language_info": {
   "codemirror_mode": {
    "name": "ipython",
    "version": 3
   },
   "file_extension": ".py",
   "mimetype": "text/x-python",
   "name": "python",
   "nbconvert_exporter": "python",
   "pygments_lexer": "ipython3",
   "version": "3.9.13"
  }
 },
 "nbformat": 4,
 "nbformat_minor": 5
}
